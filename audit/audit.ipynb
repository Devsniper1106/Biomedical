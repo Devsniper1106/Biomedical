{
 "cells": [
  {
   "cell_type": "code",
   "execution_count": 2,
   "metadata": {},
   "outputs": [],
   "source": [
    "import re\n",
    "from urllib.parse import urlparse\n",
    "import requests\n",
    "from requests.exceptions import SSLError\n",
    "import urllib3\n",
    "\n",
    "urllib3.disable_warnings(urllib3.exceptions.InsecureRequestWarning)"
   ]
  },
  {
   "cell_type": "code",
   "execution_count": 3,
   "metadata": {},
   "outputs": [],
   "source": [
    "r = requests.get('https://raw.githubusercontent.com/HD2i/biomedical-blockchain/master/README.md')\n",
    "links = re.findall(r'\\((.*?)\\)', r.text)\n",
    "links = links + [x.replace('<img src=\"', '').replace('\" width=\"80\"', '').replace('\"/>', '').replace('>', '').replace(' width=\"200\"', '') for x in re.findall(r'\\[(.*?)\\]', r.text)]"
   ]
  },
  {
   "cell_type": "code",
   "execution_count": 1,
   "metadata": {},
   "outputs": [],
   "source": []
  },
  {
   "cell_type": "code",
   "execution_count": 4,
   "metadata": {
    "scrolled": false
   },
   "outputs": [],
   "source": [
    "noise = [')', '\"', '/', '*']\n",
    "distinct_links = []\n",
    "for link in links:\n",
    "    if (link[-1:]) in noise:\n",
    "        link = link[0:-1]\n",
    "    if (link[-1:]) in noise:\n",
    "        link = link[0:-1]\n",
    "    distinct_links.append(link)\n",
    "\n",
    "distinct_links = list(set(distinct_links))"
   ]
  },
  {
   "cell_type": "code",
   "execution_count": 5,
   "metadata": {},
   "outputs": [],
   "source": [
    "def create_request(session, link, verify=True):\n",
    "    request = requests.Request('GET', link, headers=headers)\n",
    "    prepared_request = session.prepare_request(request)\n",
    "    r = session.send(prepared_request, verify=verify)\n",
    "    return r"
   ]
  },
  {
   "cell_type": "code",
   "execution_count": 6,
   "metadata": {
    "scrolled": false
   },
   "outputs": [
    {
     "name": "stdout",
     "output_type": "stream",
     "text": [
      "******************\n",
      "https://www.coinstaker.com/wp-content/uploads/2018/01/Well_logo_H_Teal_CMYK.jpg\n",
      "503\n",
      "******************\n"
     ]
    }
   ],
   "source": [
    "headers = {'User-Agent': 'Mozilla/5.0 (Macintosh; Intel Mac OS X 10_11_5) AppleWebKit/537.36 (KHTML, like Gecko) Chrome/50.0.2661.102 Safari/537.36'}\n",
    "\n",
    "for link in distinct_links:\n",
    "    if link[0:4] != 'http': \n",
    "        continue\n",
    "#     if link != 'https://enome.io': continue\n",
    "\n",
    "    session = requests.Session()\n",
    "    try:          \n",
    "        r = create_request(session, link, verify=True)\n",
    "        if r.status_code != 200:\n",
    "            print('******************')\n",
    "            print(link)\n",
    "            print(r.status_code)\n",
    "            print('******************')\n",
    "    except SSLError as e:\n",
    "        # catches wonky SSL certificates.  site works, just has trouble with security and requests.\n",
    "        try:\n",
    "            r = create_request(session, link, verify=False)\n",
    "            if r.status_code != 200:\n",
    "                print('******************')\n",
    "                print(link)\n",
    "                print(r.status_code)\n",
    "                print('******************')\n",
    "        except Exception as e:\n",
    "            print(e)\n",
    "    except Exception as e:\n",
    "        print('******************')\n",
    "        print(link)\n",
    "        print(r)\n",
    "        print(e)\n",
    "        print('******************')"
   ]
  },
  {
   "cell_type": "code",
   "execution_count": null,
   "metadata": {},
   "outputs": [],
   "source": []
  }
 ],
 "metadata": {
  "kernelspec": {
   "display_name": "Python 3",
   "language": "python",
   "name": "python3"
  },
  "language_info": {
   "codemirror_mode": {
    "name": "ipython",
    "version": 3
   },
   "file_extension": ".py",
   "mimetype": "text/x-python",
   "name": "python",
   "nbconvert_exporter": "python",
   "pygments_lexer": "ipython3",
   "version": "3.6.5"
  }
 },
 "nbformat": 4,
 "nbformat_minor": 2
}
